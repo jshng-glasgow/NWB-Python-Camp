{
 "cells": [
  {
   "cell_type": "markdown",
   "id": "ce46f254",
   "metadata": {},
   "source": [
    "# Packages and Environments\n",
    "\n",
    "A software package (or library) is a pre-written collection of code which you can import into your project. This is extremely useful, as it means we don't have to start from scratch every time we write some code!\n",
    "\n",
    "## 1. Built-In Python Packages\n",
    "\n",
    "The example below imports a function called `math` which contains a host of mathematical functions to play with:\n",
    "\n",
    "```python\n",
    "\n",
    "import math\n",
    "```\n",
    "In Code Block 1, import the `math` library and use the `help()` function to see what functions `math` makes available. Use the syntax `math.function(argument)` (e.g. `math.cos(0)`) to play with some of the functions. "
   ]
  },
  {
   "cell_type": "code",
   "execution_count": null,
   "metadata": {
    "vscode": {
     "languageId": "plaintext"
    }
   },
   "outputs": [],
   "source": []
  },
  {
   "cell_type": "markdown",
   "metadata": {},
   "source": [
    "Now we have the `math` package imported, we can use functions like `math.cos()` or `math.atan()` anywhere in our code. If these were the only functions we were interested in, we could also specify that in our import using the line:\n",
    "\n",
    "```python\n",
    "from math import cos, atan\n",
    "\n",
    "```\n",
    "These can now be used in our code without needing the `math.` prefix:\n",
    "\n",
    "```python\n",
    "x = 90\n",
    "cos_x = cos(x)\n",
    "print(cos_x)\n",
    "```"
   ]
  },
  {
   "cell_type": "code",
   "execution_count": null,
   "metadata": {
    "vscode": {
     "languageId": "plaintext"
    }
   },
   "outputs": [],
   "source": []
  },
  {
   "cell_type": "markdown",
   "metadata": {},
   "source": [
    "## 2. Third Party Packages and Coding Environments\n",
    "\n",
    "Third party packages are libraries which are not included in the base Python installation. To use them we must first install them on our computer using a package manager like Pip or Conda. \n",
    "\n",
    "### 2.1 Creating a Conda Environment\n",
    "It is good practice to keep all the packages you need for a project in the same place, called an *environment*. Keeping our packages in a clean and minimal environment makes it easier for others to re-use our code, as they know exactly what packages to install to make it work. This is particularly important in science, where we want our code to be as reproducible as possible.\n",
    "\n",
    "To do this, search for *Anconda Prompt* on your computer and open it. You should get something like this:\n",
    "\n",
    "![image](conda_prompt_1.PNG)\n",
    "\n",
    "The first thing to note is the `(base)` before your current working directory, in this case (`C:\\Users\\jws10y>`). This is indicating that we are in our `base` environment. We could start installing software into this, however if we want to keep a track of which packages we use on different projects we need to create a project specific environment.\n",
    "\n",
    "Let's create that new environment. We'll name this environment `NWB-hackathon`. We're also going to specify the Python version we will be using for this, in this case `Python==3.11`. Do this with the following line:\n",
    "\n",
    "![image](conda_prompt_2.PNG)\n",
    "\n",
    "You will see a load of text generated, then be prompted to confirm the action with the line `Proceed ([y]/n)?`. input `y` then hit `Enter`. This environment is now a clean install of Python which we can build a coding environment on. First, though, we need to enter that environment by *activating* it. You need to do this any time you want to use the environment for coding. Enter the following line into your Anaconda Prompt: \n",
    "\n",
    "![image](conda_prompt_3.PNG)\n",
    "\n",
    "### 2.2 Installing Packages\n",
    "\n",
    "If this has worked, you will see the `(base)` has now changed to `(NWB-hackathon)`, indicating our environment has changed. We now need to install some packages into this environment. We're going to install a few commonly used data science libraries, but there are thousands of others out there. First, let's install *Jupyter* again. Since we have made a clean environment, the packages installed with Anaconda might not be on our `NWB-hackathon` environment. We'll be using `pip` to install these packages. Pip will pull all the code for Jupyter from [PyPi](https://pypi.org/) - a huge repository of open-source Python code. Install Jupyter with the following command:\n",
    "\n",
    "![image](conda_prompt_4.PNG)\n",
    "\n",
    "Use the same approach to install a few more packages:\n",
    "\n",
    "* `matplotlib` : for creating plots and graphs,\n",
    "\n",
    "* `numpy` : for handling numerical data and matrices,\n",
    "\n",
    "* `pandas` : for data wrangling and analysis,\n",
    "\n",
    "* `scikit-learn` : for data analysis and machine learning.\n",
    "\n",
    "Use `pip install <package>` in your Anaconda Prompt.\n",
    "\n",
    "### 2.3 Opening a Jupyter Notebook in your Environment\n",
    "\n",
    "Once those are installed, save all your notebooks and close you Jupyter window in your browser. We'll open it again running inside our `NWB-hackathon` environment.\n",
    "\n",
    "Go back to your Anaconda Prompt terminal, and check that the `(NWB-hackathon)` environment is running (it should be the first thing on your current line). To open Jupyter again, all we need to do is type in `jupyter notebook` and hit `Enter`. This should automatically open Jupyter in your browser.\n",
    "\n",
    "### 3. Using Third Party Packages\n",
    "Let's take a look at a few of the package we installed. It is common to import many of these under shortened pseudonyms - especially for packages which see very frequent use such as `numpy`, `pandas` and `matplotlib`. To import these packages, use the code below\n",
    "\n",
    "```python\n",
    "\n",
    "import pandas as pd # the `as pd` line means we now just need to type \"pd\" when we want to use pandas\n",
    "import numpy as np\n",
    "import matplotlib.pyplot as plt # we're just importing the `pyplot` module from matplotlib\n",
    "\n",
    "import sklearn\n",
    "```\n",
    "Import these packages in the code block below, and use `help()` to read a little about what they do.  "
   ]
  },
  {
   "cell_type": "code",
   "execution_count": null,
   "id": "2a66779e",
   "metadata": {
    "vscode": {
     "languageId": "plaintext"
    }
   },
   "outputs": [],
   "source": []
  }
 ],
 "metadata": {
  "language_info": {
   "name": "python"
  }
 },
 "nbformat": 4,
 "nbformat_minor": 5
}
