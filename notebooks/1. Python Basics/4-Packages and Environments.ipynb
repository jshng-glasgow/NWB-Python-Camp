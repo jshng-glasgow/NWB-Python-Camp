{
 "cells": [
  {
   "cell_type": "markdown",
   "id": "0a4c0ca6",
   "metadata": {},
   "source": [
    "# 4. Packages and Environments\n",
    "\n",
    "A software package (or library) is a pre-written collection of code which you can import into your project. This is extremely useful, as it means we don't have to start from scratch every time we write some code!\n",
    "\n",
    "## 4.1 Built-In Python Packages\n",
    "\n",
    "The example below imports a function called `math` which contains a host of mathematical functions to play with:\n",
    "\n",
    "```python\n",
    "\n",
    "import math\n",
    "```\n",
    "In Code Block 1, import the `math` library and use the `help()` function to see what functions `math` makes available. Use the syntax `math.function(argument)` (e.g. `math.cos(0)`) to play with some of the functions. "
   ]
  },
  {
   "cell_type": "code",
   "execution_count": null,
   "id": "c72c6b08",
   "metadata": {},
   "outputs": [],
   "source": []
  },
  {
   "cell_type": "code",
   "execution_count": null,
   "id": "dffa4a92",
   "metadata": {},
   "outputs": [],
   "source": []
  },
  {
   "cell_type": "markdown",
   "id": "f50fd630",
   "metadata": {},
   "source": [
    "Now we have the `math` package imported, we can use functions like `math.cos()` or `math.atan()` anywhere in our code. If these were the only functions we were interested in, we could also specify that in our import using the line:\n",
    "\n",
    "```python\n",
    "from math import cos, atan\n",
    "```\n",
    "These can now be used in our code without needing the `math.` prefix:\n",
    "\n",
    "```python\n",
    "x = 90\n",
    "cos_x = cos(x)\n",
    "print(cos_x)\n",
    "```"
   ]
  },
  {
   "cell_type": "code",
   "execution_count": null,
   "id": "09774a6d",
   "metadata": {},
   "outputs": [],
   "source": []
  },
  {
   "cell_type": "markdown",
   "id": "d7fced44",
   "metadata": {},
   "source": [
    "## 4.2 Third Party Packages and Coding Environments\n",
    "\n",
    "Third party packages are libraries which are not included in the base Python installation. To use them we must first install them on our computer using a package manager like Pip or Conda. \n",
    "\n",
    "### 4.2.1 Creating a Conda Environment\n",
    "It is good practice to keep all the packages you need for a project in the same place, called an *environment*. Keeping our packages in a clean and minimal environment makes it easier for others to re-use our code, as they know exactly what packages to install to make it work. This is particularly important in science, where we want our code to be as reproducible as possible.\n",
    "\n",
    "To do this, search for *Anconda Prompt* on your computer and open it. You should get something like this:\n",
    "\n",
    "![image](conda_prompt_1.PNG)\n",
    "\n",
    "The first thing to note is the `(base)` before your current working directory, in this case (`C:\\Users\\jws10y>`). This is indicating that we are in our `base` environment. We could start installing software into this, however if we want to keep a track of which packages we use on different projects we need to create a project specific environment.\n",
    "\n",
    "Let's create that new environment. We'll name this environment `NWB-hackathon`. We're also going to specify the Python version we will be using for this, in this case `Python==3.11`. Do this with the following line:\n",
    "\n",
    "![image](conda_prompt_2.PNG)\n",
    "\n",
    "You will see a load of text generated, then be prompted to confirm the action with the line `Proceed ([y]/n)?`. input `y` then hit `Enter`. This environment is now a clean install of Python which we can build a coding environment on. First, though, we need to enter that environment by *activating* it. You need to do this any time you want to use the environment for coding. Enter the following line into your Anaconda Prompt: \n",
    "\n",
    "![image](conda_prompt_3.PNG)\n",
    "\n",
    "### 4.2.2 Installing Packages\n",
    "\n",
    "If this has worked, you will see the `(base)` has now changed to `(NWB-hackathon)`, indicating our environment has changed. We now need to install some packages into this environment. We're going to install a few commonly used data science libraries, but there are thousands of others out there. First, let's install *Jupyter* again. Since we have made a clean environment, the packages installed with Anaconda might not be on our `NWB-hackathon` environment. We'll be using `pip` to install these packages. Pip will pull all the code for Jupyter from [PyPi](https://pypi.org/) - a huge repository of open-source Python code. Install Jupyter with the following command:\n",
    "\n",
    "![image](conda_prompt_4.PNG)\n",
    "\n",
    "Use the same approach to install a few more packages:\n",
    "\n",
    "* `matplotlib` : for creating plots and graphs,\n",
    "\n",
    "* `numpy` : for handling numerical data and matrices,\n",
    "\n",
    "* `pandas` : for data wrangling and analysis,\n",
    "\n",
    "* `scikit-learn` : for data analysis and machine learning.\n",
    "\n",
    "Use `pip install <package>` in your Anaconda Prompt.\n",
    "\n",
    "### 4.2.3 Opening a Jupyter Notebook in your Environment\n",
    "\n",
    "Once those are installed, save all your notebooks and close you Jupyter window in your browser. We'll open it again running inside our `NWB-hackathon` environment.\n",
    "\n",
    "Go back to your Anaconda Prompt terminal, and check that the `(NWB-hackathon)` environment is running (it should be the first thing on your current line). To open Jupyter again, all we need to do is type in `jupyter notebook` and hit `Enter`. This should automatically open Jupyter in your browser.\n",
    "\n",
    "### 4.3 Using Third Party Packages\n",
    "Let's take a look at a few of the package we installed. It is common to import many of these under shortened pseudonyms - especially for packages which see very frequent use such as `numpy`, `pandas` and `matplotlib`. To import these packages, use the code below\n",
    "\n",
    "```python\n",
    "\n",
    "import pandas as pd # the `as pd` line means we now just need to type \"pd\" when we want to use pandas\n",
    "import numpy as np\n",
    "import matplotlib.pyplot as plt # we're just importing the `pyplot` module from matplotlib\n",
    "\n",
    "import sklearn\n",
    "```\n",
    "Import these packages in the code block below, and use `help()` to read a little about what they do.  "
   ]
  },
  {
   "cell_type": "code",
   "execution_count": null,
   "id": "bff32004",
   "metadata": {},
   "outputs": [],
   "source": []
  },
  {
   "cell_type": "markdown",
   "id": "68910e69",
   "metadata": {},
   "source": [
    "# Data analysis with Python\n",
    "This notebook walks through the basics of four packages: `numpy`, `matplotlib`, `scikit-learn`, and `pandas`. Before getting started, make sure these are installed on your current environment be running the \n",
    "# 1. Reading Tabular Data with `pandas`\n",
    "The Pandas library is used for reading and analysing tabular data. We're going to use it to read in `amino_acids.csv` as a *DataFrame* (or `df`) and view some of the data. We'll use the `DataFrame.head()` function to view the first 5 elements in the dataframe. \n",
    "\n",
    "```python\n",
    "amino_acids_df = pd.read_csv('aminoacids.csv')\n",
    "amino_acids_df.head()\n",
    "```\n",
    "💡**Task:** use the `len()` function on your dataframe to check how many rows it has."
   ]
  },
  {
   "cell_type": "code",
   "execution_count": null,
   "id": "281a4e51",
   "metadata": {},
   "outputs": [],
   "source": []
  },
  {
   "cell_type": "markdown",
   "id": "5aaae649",
   "metadata": {},
   "source": [
    "We can get a full list of the columns in our dataframe using the `DataFrame.columns()` function. Try that on `amino_acids_df` in the Code Block below."
   ]
  },
  {
   "cell_type": "code",
   "execution_count": null,
   "id": "761c4c41",
   "metadata": {},
   "outputs": [],
   "source": []
  },
  {
   "cell_type": "markdown",
   "id": "a09be1a5",
   "metadata": {},
   "source": [
    "Our dataframe has 22 columns and 22 rows of data. We can extract a single column (or *Series*) using the following syntax:\n",
    "\n",
    "```python\n",
    "amino_acids_masses = amino_acids_df['Molecular Weight']\n",
    "print(amino_acids_masses)\n",
    "```\n",
    "💡 **Task:** Extract a few more columns from our dataframe."
   ]
  },
  {
   "cell_type": "code",
   "execution_count": null,
   "id": "e5891427",
   "metadata": {},
   "outputs": [],
   "source": []
  },
  {
   "cell_type": "markdown",
   "id": "2c903608",
   "metadata": {},
   "source": [
    "We can use the `numpy` package to get basic statistics for our series. Try the following examples to see what they do:\n",
    "\n",
    "```python\n",
    "\n",
    "np.amax(amino_acid_masses)\n",
    "np.amin(amino_acid_masses)\n",
    "np.mean(amino_acid_masses)\n",
    "np.quantile(amino_acid_masses, [0.05, 0.25, 0.5, 0.75, 0.95])\n",
    "np.std(amino_acid_masses)\n",
    "```"
   ]
  },
  {
   "cell_type": "code",
   "execution_count": 3,
   "id": "25253e90",
   "metadata": {},
   "outputs": [
    {
     "data": {
      "text/html": [
       "<div>\n",
       "<style scoped>\n",
       "    .dataframe tbody tr th:only-of-type {\n",
       "        vertical-align: middle;\n",
       "    }\n",
       "\n",
       "    .dataframe tbody tr th {\n",
       "        vertical-align: top;\n",
       "    }\n",
       "\n",
       "    .dataframe thead th {\n",
       "        text-align: right;\n",
       "    }\n",
       "</style>\n",
       "<table border=\"1\" class=\"dataframe\">\n",
       "  <thead>\n",
       "    <tr style=\"text-align: right;\">\n",
       "      <th></th>\n",
       "      <th>Name</th>\n",
       "      <th>Abbr</th>\n",
       "      <th>Letter</th>\n",
       "      <th>Molecular Weight</th>\n",
       "      <th>Molecular Formula</th>\n",
       "      <th>Residue Formula</th>\n",
       "      <th>Residue Weight</th>\n",
       "      <th>pKa1</th>\n",
       "      <th>pKb2</th>\n",
       "      <th>pKx3</th>\n",
       "      <th>...</th>\n",
       "      <th>VSC</th>\n",
       "      <th>P1</th>\n",
       "      <th>P2</th>\n",
       "      <th>SASA</th>\n",
       "      <th>NCISC</th>\n",
       "      <th>carbon</th>\n",
       "      <th>hydrogen</th>\n",
       "      <th>nitrogen</th>\n",
       "      <th>oxygen</th>\n",
       "      <th>sulfur</th>\n",
       "    </tr>\n",
       "  </thead>\n",
       "  <tbody>\n",
       "    <tr>\n",
       "      <th>1</th>\n",
       "      <td>Cysteine</td>\n",
       "      <td>Cys</td>\n",
       "      <td>C</td>\n",
       "      <td>121.16</td>\n",
       "      <td>C3H7NO2S</td>\n",
       "      <td>C3H5NOS</td>\n",
       "      <td>103.15</td>\n",
       "      <td>1.96</td>\n",
       "      <td>10.28</td>\n",
       "      <td>8.18</td>\n",
       "      <td>...</td>\n",
       "      <td>44.6</td>\n",
       "      <td>5.5</td>\n",
       "      <td>0.128</td>\n",
       "      <td>1.461</td>\n",
       "      <td>-0.036610</td>\n",
       "      <td>3</td>\n",
       "      <td>7</td>\n",
       "      <td>1</td>\n",
       "      <td>2</td>\n",
       "      <td>1</td>\n",
       "    </tr>\n",
       "    <tr>\n",
       "      <th>10</th>\n",
       "      <td>Methionine</td>\n",
       "      <td>Met</td>\n",
       "      <td>M</td>\n",
       "      <td>149.21</td>\n",
       "      <td>C5H11NO2S</td>\n",
       "      <td>C5H9NOS</td>\n",
       "      <td>131.20</td>\n",
       "      <td>2.28</td>\n",
       "      <td>9.21</td>\n",
       "      <td>NaN</td>\n",
       "      <td>...</td>\n",
       "      <td>94.1</td>\n",
       "      <td>5.7</td>\n",
       "      <td>0.221</td>\n",
       "      <td>2.034</td>\n",
       "      <td>0.002683</td>\n",
       "      <td>5</td>\n",
       "      <td>11</td>\n",
       "      <td>1</td>\n",
       "      <td>2</td>\n",
       "      <td>1</td>\n",
       "    </tr>\n",
       "  </tbody>\n",
       "</table>\n",
       "<p>2 rows × 22 columns</p>\n",
       "</div>"
      ],
      "text/plain": [
       "          Name Abbr Letter  Molecular Weight Molecular Formula  \\\n",
       "1     Cysteine  Cys      C            121.16          C3H7NO2S   \n",
       "10  Methionine  Met      M            149.21         C5H11NO2S   \n",
       "\n",
       "   Residue Formula  Residue Weight  pKa1   pKb2  pKx3  ...   VSC   P1     P2  \\\n",
       "1          C3H5NOS          103.15  1.96  10.28  8.18  ...  44.6  5.5  0.128   \n",
       "10         C5H9NOS          131.20  2.28   9.21   NaN  ...  94.1  5.7  0.221   \n",
       "\n",
       "     SASA     NCISC  carbon  hydrogen  nitrogen  oxygen  sulfur  \n",
       "1   1.461 -0.036610       3         7         1       2       1  \n",
       "10  2.034  0.002683       5        11         1       2       1  \n",
       "\n",
       "[2 rows x 22 columns]"
      ]
     },
     "execution_count": 3,
     "metadata": {},
     "output_type": "execute_result"
    }
   ],
   "source": [
    "df.query('sulfur >= 1')"
   ]
  },
  {
   "cell_type": "markdown",
   "id": "08aa3c8c",
   "metadata": {},
   "source": [
    "We can also produce subsets of our data accoring to a given rule. For a given dataframe `df` with column `x1`, the line `df['x1']==y` will return a series of equal length to `df`, valued as `True` if `x1==y` on that row, otherwise `False`. Indexing into our dataframe with that series will return just the rows where the statement evaluates as `True`, hence `df[df['x1']==y]` will return a new dataframe containing just those rows in `df` where `df['x1']==y`. \n",
    "\n",
    "The code below produces a list of all the amino acids in our dataset which contain Sulfur:\n",
    "\n",
    "```python\n",
    "\n",
    "aas_with_sulfur = amino_acid_df[amino_acid_df['sulfur'] > 0]\n",
    "aas_with_sulfur.head()\n",
    "```\n",
    "💡**Task:** Use this method to produce dataframes of the following:\n",
    "\n",
    "* All amino acids with Molecular Weight > 100 g/mol,\n",
    "\n",
    "* All amino acids with negative NCISC,\n",
    "\n",
    "* All amino acids with between 3 and 6 carbon atoms (inclusive),\n",
    "\n",
    "* All amino acids with VSC < 50 and Residue Weight > 100 (*hint: `and` and `or` can be used in queries*)\n",
    "\n"
   ]
  },
  {
   "cell_type": "code",
   "execution_count": null,
   "id": "8f869e5f",
   "metadata": {},
   "outputs": [],
   "source": []
  },
  {
   "cell_type": "markdown",
   "id": "a9d94ce3",
   "metadata": {},
   "source": [
    "Pandas has hundereds of other features. For a more comprehensive list, [check out this cheat sheet](https://pandas.pydata.org/Pandas_Cheat_Sheet.pdf), which details almost all the regularly used Pandas features!\n",
    "\n",
    "### 4.3.2 Plotting data with `matplotlib`\n",
    "Matplotlib offers a range of data visualisation tools. Today, we'll look at two simple plotting types, histograms and scatter plots. \n",
    "\n",
    "As a quick tip - the standard plotting style for Matplotlib is a little sparse. We can change the plotting style easily by running the following code:\n",
    "\n",
    "```python\n",
    "plt.style.use(\"ggplot\")\n",
    "```\n",
    "This will change the style to be more similar to R's *ggplot*. You can see a full range of styles [here](https://matplotlib.org/stable/gallery/style_sheets/style_sheets_reference.html).\n",
    "\n",
    "Choose a style from the style list and run the code above (with `\"ggplot\"` replaced with your chose style)."
   ]
  },
  {
   "cell_type": "code",
   "execution_count": null,
   "id": "80140bba",
   "metadata": {},
   "outputs": [],
   "source": []
  },
  {
   "cell_type": "markdown",
   "id": "89d8f381",
   "metadata": {},
   "source": [
    "We'll start by producing a historgram of the different massess of amino acids using the following code:\n",
    "\n",
    "```python\n",
    "# initialize a subplot.\n",
    "fig, ax = plt.subplots()\n",
    "# plot a histogram\n",
    "ax.hist(amino_acids_df['Molecular Weight'])\n",
    "# add titles and axis labels\n",
    "ax.set_title('Amino Acid Molar Masses') # adds a title\n",
    "ax.set_xlabel('Molecular mass (g/mol)') # adds label for x axis\n",
    "ax.set_ylabel('Count') # adds label for y axis\n",
    "# show the plot\n",
    "fig.show()\n",
    "```\n",
    "\n",
    "Use the Code Block below to produce histograms for a few other features in our dataset."
   ]
  },
  {
   "cell_type": "code",
   "execution_count": null,
   "id": "2dfdad7d",
   "metadata": {},
   "outputs": [],
   "source": []
  },
  {
   "cell_type": "markdown",
   "id": "09960d12",
   "metadata": {},
   "source": [
    "We can show multiple plots in the same figure. The `subplots()` function can take two arguments indicating the number of rows and columns of subplots. For eaxmple, `plt.subplots(2,3)` will produce a figure with two rows of three plots. In this case, `ax[row][col]` will index into the corresponding plot in the figure. The syntax for this is shown below:\n",
    "\n",
    "```python\n",
    "# initialize a subplot.\n",
    "fig, ax = plt.subplots(2, 2)\n",
    "# plot top left histogram\n",
    "ax[0][0].hist(amino_acids_df['Molecular Weight'])\n",
    "ax[0][0].set_title('Amino Acid Molar Masses') \n",
    "ax[0][0].set_xlabel('Molecular mass (g/mol)') \n",
    "ax[0][0].set_ylabel('Count') \n",
    "# plot top right histogram\n",
    "ax[0][1].hist(amino_acids_df['H'])\n",
    "ax[0][1].set_title('Amino Acid Hydrophobicity (Kcal/mol)') \n",
    "ax[0][1].set_xlabel('Hydrophobicity') \n",
    "ax[0][1].set_ylabel('Count') \n",
    "# plot bottom left histogram\n",
    "ax[1][0].hist(amino_acids_df['P1'])\n",
    "ax[1][0].set_title('Amino Acid polarity') \n",
    "ax[1][0].set_xlabel('Polarity') \n",
    "ax[1][0].set_ylabel('Count')\n",
    "# plot bottom right histogram\n",
    "ax[1][1].hist(amino_acids_df['P2'])\n",
    "ax[1][1].set_title('Amino Acid polarizability (au)') \n",
    "ax[1][1].set_xlabel('Polarizability') \n",
    "ax[1][1].set_ylabel('Count')\n",
    "# show the plot\n",
    "fig.tight_layout() # this can help produce better layouts in multi-plots.\n",
    "fig.show()\n",
    "```"
   ]
  },
  {
   "cell_type": "code",
   "execution_count": null,
   "id": "c231ce05",
   "metadata": {},
   "outputs": [],
   "source": []
  },
  {
   "cell_type": "markdown",
   "id": "713c0d00",
   "metadata": {},
   "source": [
    "We can also compare two variables using the `scatter` plotting tool. The code below produces a scatter plot comparing Molecular Weight with polarizability (`P2`). \n",
    "\n",
    "```python\n",
    "fig, ax = plt.subplots()\n",
    "ax.scatter(amino_acids_df['Molecular Weight'], amino_acids_df['P2'])\n",
    "...\n",
    "```\n",
    "💡**Task:** Amend the code above so that it adds a title and axis labels. Take a look at [matplotlib's documentation](https://matplotlib.org/stable/api/_as_gen/matplotlib.pyplot.scatter.html) to see how else you can customise your plot. "
   ]
  },
  {
   "cell_type": "code",
   "execution_count": null,
   "id": "98033a69",
   "metadata": {},
   "outputs": [],
   "source": []
  },
  {
   "cell_type": "markdown",
   "id": "db56068b",
   "metadata": {},
   "source": [
    "We can use a combination of functions in both Pandas and Matplotlib to view a correlation plot of all the numerical features in the data. The code below first builds a new dataframe with just the numerical features from `amino_acide_df`, turns this into a correlation table, then uses `matplotlib.imshow` to produce a heatmap representing this table.\n",
    "\n",
    "```python\n",
    "aa_numerical = amino_acid_df.select_dtypes(include=['number']) # filters out non numerical columns\n",
    "aa_correlation = aa_numerical.corr() # produce correlation table\n",
    "print(aa_correlation.head()) # view the ftable for refference\n",
    "\n",
    "# plot the correlation table\n",
    "fig, ax = plt.subplots()\n",
    "im = ax.imshow(aa_correlation) # assign this to a varibale so we can add a colorbar later\n",
    "ax.set_title('Correlation plot for Amino Acid features')\n",
    "\n",
    "# rename the axis tick\n",
    "tick_labels = aa_numerical.columns\n",
    "tick_locs = range(len(tick_labels))\n",
    "ax.set_xticks(tick_locs)\n",
    "ax.set_xticklabels(tick_labels, rotation=90)\n",
    "ax.set_yticks(tick_locs)\n",
    "ax.set_yticklabels(tick_labels)\n",
    "\n",
    "# add a colorbar\n",
    "fig.colorbar(im, ax=ax)\n",
    "# fix layout and show\n",
    "fig.tight_layout()\n",
    "fig.show()\n",
    "```\n",
    "\n",
    "Try out this code in the block below to produce a correlation plot for the amino acids dataset. "
   ]
  },
  {
   "cell_type": "code",
   "execution_count": null,
   "id": "c0317a75",
   "metadata": {},
   "outputs": [],
   "source": []
  },
  {
   "cell_type": "markdown",
   "id": "be0ff080",
   "metadata": {},
   "source": [
    "Once again, this only scratches the surface of what you can do with Matplotlib. For more details see the cheat sheet on [this page](https://matplotlib.org/cheatsheets/)."
   ]
  },
  {
   "cell_type": "markdown",
   "id": "aa65942a",
   "metadata": {},
   "source": [
    "### 4.3.3 Simple Modelling with `scikit-learn`, `numpy` and `pandas`\n",
    "The `scikit-learn` library has hundereds of tools for data processing, analysis and modelling. We're going to use a few here to great a simple linear regression which predicts polarizability (`P2`) given an amino acid's molecular mass. \n",
    "\n",
    "Out first task is to create an X variable for our regression. We'll put these into the form of a Numpy array by using the numpy function `np.array()`. Numpy arrays are sort of like lists, except they only handle numerical data (`int` or `float`) and are much more memory efficient - this can be very important for complex machine learning tasks.\n",
    "\n",
    "Create your input variable using the code below:\n",
    "\n",
    "```python\n",
    "# first, drop anything which is missing values for either P2 or Molecular weight\n",
    "input_df = amino_acids_df.dropna(subset=['Molecular Weight', 'P2'])\n",
    "# then turn it into a numpy array\n",
    "X = np.array(input_df['Molecular Weight'])\n",
    "```\n",
    "💡**Task:** Copy the code above and add a new line which assigns the `P2` feature to the `y` variable. Remember to make it a numpy array. "
   ]
  },
  {
   "cell_type": "code",
   "execution_count": null,
   "id": "e07ddf43",
   "metadata": {},
   "outputs": [],
   "source": []
  },
  {
   "cell_type": "markdown",
   "id": "be543bab",
   "metadata": {},
   "source": [
    "We now want to split our data into a test set and a training set. The code below randomly assigns 10% of our data to a test set. We'll set a random state so that our random split is reproducible for others:\n",
    "\n",
    "```python\n",
    "from sklearn.model_selection import train_test_split\n",
    "\n",
    "X_trn, X_tst, y_trn, y_tst = train_test_split(X, y, test_size=0.1, random_state=42)\n",
    "```\n",
    "Copy this code in to the Code Block below to generate a train and test set."
   ]
  },
  {
   "cell_type": "code",
   "execution_count": null,
   "id": "8b4ca5f3",
   "metadata": {},
   "outputs": [],
   "source": []
  },
  {
   "cell_type": "markdown",
   "id": "21a5244d",
   "metadata": {},
   "source": [
    "We can now train a linear regression model on this data! First, we need to import the `LinearRegression` model from sklearn and initialise a new model.\n",
    "\n",
    "```python\n",
    "from sklearn.linear_model import LinearRegression\n",
    "\n",
    "regressor = LinearRegession()\n",
    "model = regressor.fit(X_trn, y_trn)\n",
    "```\n",
    "Copy this into the Code Block Below. You will get an error. Read the error carefully and adjust your data accordingly.\n"
   ]
  },
  {
   "cell_type": "code",
   "execution_count": null,
   "id": "65e2c7f5",
   "metadata": {},
   "outputs": [],
   "source": []
  },
  {
   "cell_type": "markdown",
   "id": "bf66c764",
   "metadata": {},
   "source": [
    "We can now test our model. Use the `model.score(X,y)` method to get a regression score for the model on our test data!"
   ]
  },
  {
   "cell_type": "code",
   "execution_count": null,
   "id": "ac665d93",
   "metadata": {},
   "outputs": [],
   "source": []
  },
  {
   "cell_type": "markdown",
   "id": "6020a622",
   "metadata": {},
   "source": [
    "💡**Task:** Have a go at making a linear regression model with multiple features from our dataset - can you improve the performance on predicting polarizability for different Amino Acids?"
   ]
  },
  {
   "cell_type": "code",
   "execution_count": null,
   "id": "e13dd31c",
   "metadata": {},
   "outputs": [],
   "source": []
  },
  {
   "cell_type": "code",
   "execution_count": 53,
   "id": "50f8ab30",
   "metadata": {},
   "outputs": [],
   "source": [
    "from ast import literal_eval"
   ]
  },
  {
   "cell_type": "code",
   "execution_count": 64,
   "id": "8044bbde",
   "metadata": {},
   "outputs": [
    {
     "data": {
      "text/plain": [
       "'f'"
      ]
     },
     "execution_count": 64,
     "metadata": {},
     "output_type": "execute_result"
    }
   ],
   "source": [
    "s = '[e, f]'\n",
    "\n",
    "s= s.strip('[]')\n",
    "s= s.split(', ')\n",
    "s[1]"
   ]
  },
  {
   "cell_type": "code",
   "execution_count": null,
   "id": "7dcf7389",
   "metadata": {},
   "outputs": [],
   "source": []
  }
 ],
 "metadata": {
  "kernelspec": {
   "display_name": "nwb_env",
   "language": "python",
   "name": "python3"
  },
  "language_info": {
   "codemirror_mode": {
    "name": "ipython",
    "version": 3
   },
   "file_extension": ".py",
   "mimetype": "text/x-python",
   "name": "python",
   "nbconvert_exporter": "python",
   "pygments_lexer": "ipython3",
   "version": "3.11.13"
  }
 },
 "nbformat": 4,
 "nbformat_minor": 5
}
