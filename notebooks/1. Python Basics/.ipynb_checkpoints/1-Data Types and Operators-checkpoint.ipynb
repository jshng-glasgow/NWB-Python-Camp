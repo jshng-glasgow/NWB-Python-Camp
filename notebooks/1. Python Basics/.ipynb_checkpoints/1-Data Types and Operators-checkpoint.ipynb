{
 "cells": [
  {
   "cell_type": "markdown",
   "id": "7b99cedd",
   "metadata": {},
   "source": [
    "## 1. Data types and operators\n",
    "This section will look at the basic building blocks of Python code - the data itself. We'll look at how different types of data are stored in variables, and how we can manipulate those variables using operators.\n",
    "\n",
    "We'll explore the following topics:\n",
    "\n",
    "1.1 - *Variables and Operators*\n",
    "\n",
    "1.2 - *Strings, Numbers and Lists*\n",
    "\n",
    "1.3 - *Dictionaries and tuples*\n",
    "\n",
    "\n"
   ]
  },
  {
   "cell_type": "markdown",
   "id": "db927b38",
   "metadata": {},
   "source": [
    "### 1.1 Variables and operators\n",
    "\n",
    "* We can think of a **variable** as a container which stores a piece of data for later use. \n",
    "\n",
    "* We **define** variables using the `=` operator.\n",
    "\n",
    "* Operators, such as `=`, `+`, `*` and `/` allow us to manipulate those variables. \n",
    "\n",
    "In the cell below, try writing the following three lines of code:\n",
    "\n",
    "```python\n",
    "a = 3\n",
    "b = 7\n",
    "a + b\n",
    "```\n",
    "\n",
    "When you have finished, hit `shift + enter` or `ctrl + enter` on your keyboard to run the code. Bonus points if you can work out what the difference between the two is!\n",
    "\n",
    "**Bonus**: Replace `+` with other operators like `*`, `-`, `/`, `==` and `!=`. "
   ]
  },
  {
   "cell_type": "code",
   "execution_count": null,
   "id": "7b41ead4",
   "metadata": {},
   "outputs": [],
   "source": [
    "# write you code in this block\n"
   ]
  },
  {
   "cell_type": "markdown",
   "id": "9256a760",
   "metadata": {},
   "source": [
    "Now try the following:\n",
    "\n",
    "```python\n",
    "c = a * b\n",
    "c - 1\n",
    "c / 2\n",
    "```\n",
    "\n",
    "**Before hitting `shift + enter`**: Vote for what you think you will see using this [Slido Poll](www.linktoslido.com)"
   ]
  },
  {
   "cell_type": "code",
   "execution_count": null,
   "id": "7151e205",
   "metadata": {},
   "outputs": [],
   "source": [
    "# write you code in this block"
   ]
  },
  {
   "cell_type": "markdown",
   "id": "763f041d",
   "metadata": {},
   "source": [
    "You can see that the variables `a` and `b` have been stored and can be reused. However, the second line `c - 1` did not update the variable `c`, and did not get printed out. Instead, we just see the value of `c / 2` below the cell. In general, a Jupyter notebook will only print the output of the final line of code. To print intermediary lines, we can use the `print()` function:\n",
    "\n",
    "Write the following code in the code block below:\n",
    "```python\n",
    "print(c)\n",
    "print(c-1)\n",
    "print(c/2)\n",
    "\n",
    "c += 1\n",
    "print(c/2)\n",
    "```"
   ]
  },
  {
   "cell_type": "code",
   "execution_count": null,
   "id": "3117701c",
   "metadata": {},
   "outputs": [],
   "source": [
    "# write you code in this block\n"
   ]
  },
  {
   "cell_type": "markdown",
   "id": "d344aef2",
   "metadata": {},
   "source": [
    "We now have a print out for each `print()` statement in order. Later, we'll see how to make these print statements more expressive. \n",
    "\n",
    "### 🧠 Think-Pair-Share\n",
    "The block above introduced the `+=` operator. Have a think about the following questions, and discuss with a neighbour:\n",
    "\n",
    "* Can you explain how the line `c += 1` manipulated the variable `c`?\n",
    "* What might operators like `-=` and `*=` do?\n",
    "* Can you write a line of code that is equivalent to `c *= 2` without using the `*=` operator?\n"
   ]
  },
  {
   "cell_type": "code",
   "execution_count": null,
   "id": "d1a0fd9e",
   "metadata": {},
   "outputs": [],
   "source": [
    "# Use this block to explore +=, -= and *= operators\n"
   ]
  },
  {
   "cell_type": "markdown",
   "id": "ffcd5c8b",
   "metadata": {},
   "source": [
    "### 1.2 Numbers, Strings and Lists\n",
    "This section is going to take a hands on look at three different types of data - strings, numbers, and lists - and explore how the act under different operators. We will first define the following three variables:\n",
    "\n",
    "1. `a = 123`\n",
    "\n",
    "2. `b = \"123\"`\n",
    "\n",
    "3. `c = [123]`\n",
    "\n",
    "To define these, simply hit enter in the code block below:"
   ]
  },
  {
   "cell_type": "code",
   "execution_count": 56,
   "id": "10c3b546",
   "metadata": {},
   "outputs": [],
   "source": [
    "a = 123\n",
    "b = \"123\"\n",
    "c = [123]"
   ]
  },
  {
   "cell_type": "markdown",
   "id": "4ee2e1ab",
   "metadata": {},
   "source": [
    "We are going to explore how these different types of variables behave under the binary operators `+`, `*`, and `==`.\n",
    "\n",
    "1. Open the Excel file `binary_operators.xlsx`. This file contains three 3×3 tables—one for each operator.\n",
    "\n",
    "2. In each table, try out all combinations of the variables `a`, `b`, and `c` using the relevant operator (e.g. `a * b`, `b * b`, etc.).\n",
    "\n",
    "3. For each combination, fill in the table with a short description of the result. You might write something like:\n",
    "   - `\"246\"` (if it returns a value)\n",
    "   - A description of the value (if it is too long)\n",
    "   - `\"TypeError: can't multiply sequence by...\"` (if it throws an error)\n",
    "\n",
    "**Don't be afraid of errors!** They are a normal and useful part of coding. If you get one, just copy the **last line** of the error message into your table and try to think about what it tells you.\n",
    "\n",
    "\n",
    "### 🧠 Think–Pair–Share  \n",
    "Take a moment to reflect on the following questions, then discuss them with someone next to you:\n",
    "\n",
    "- What might be the purpose of having different *data types* in a programming language?\n",
    "- How does the function of an operator like `+` or `*` change depending on the data type?\n",
    "- What does the `==` operator do? In what kinds of situations might you want to use it?\n",
    "- The inverse of `==` is `!=` - How might the third table change if we had used `!=` instead?\n"
   ]
  },
  {
   "cell_type": "code",
   "execution_count": null,
   "id": "923c2a44",
   "metadata": {},
   "outputs": [],
   "source": [
    "# Use this code block to try out the different combinations\n",
    "# e.g. a*b, c*b etc"
   ]
  },
  {
   "cell_type": "markdown",
   "id": "a71cdaf7",
   "metadata": {},
   "source": [
    "#### 1.2.1 Numbers\n",
    "There are three basic types of number Python can handle: `int`, `float` and `complex`:\n",
    "\n",
    "* An `int` is defined by a whole number with no decimal point, for example `a=123`,\n",
    "\n",
    "* A `float` is a decimal number, deifned using `.`, for example `b=5.` or `c=5.4`,\n",
    "\n",
    "* A `complex` is a complex number, and is defined using `j`, for exmaple `c = 4j`. We aren't going to worry too much about those. \n",
    "\n",
    "Try the following code to explore `float` and `int` numbers:\n",
    "\n",
    "```python\n",
    "\n",
    "a = 5\n",
    "b = 5.0\n",
    "\n",
    "print(a==b)\n",
    "\n",
    "print(type(a))\n",
    "print(type(b))\n",
    "\n",
    "```\n",
    "\n",
    "We have used the `type()` function here, which tells us what type a variable is. Extend your code to find out the type of the variables `c = a + a` and `d = a + b`. What does this tell you about how `int` and `float` variables interact?\n"
   ]
  },
  {
   "cell_type": "code",
   "execution_count": null,
   "id": "1e31d52d",
   "metadata": {},
   "outputs": [],
   "source": [
    "# Write your code here"
   ]
  },
  {
   "cell_type": "markdown",
   "id": "4dd07468",
   "metadata": {},
   "source": [
    "#### 1.2.2 Strings\n",
    "Not every piece of data we want to manipulate will be a number. When we want to handle character, such as in plain text, we can store our data as a `string`.\n",
    "\n",
    "We define strings using either `\"\"` or `''`. We can also convert a variable into a string by using the built in function `str()`. Try the following code to explore defining strings:\n",
    "\n",
    "```python\n",
    "a = \"123\"\n",
    "b = '123'\n",
    "c = 123\n",
    "d = str(c)\n",
    "\n",
    "print(a==b)\n",
    "print(b==c)\n",
    "print(b==d)\n",
    "```\n"
   ]
  },
  {
   "cell_type": "code",
   "execution_count": null,
   "id": "d153ef14",
   "metadata": {},
   "outputs": [],
   "source": []
  },
  {
   "cell_type": "markdown",
   "id": "d974d0d7",
   "metadata": {},
   "source": [
    "**Manipulating strings**\n",
    "\n",
    "There are various operators and functions which allow us manipulate strings. Try the following to see a few in action:\n",
    "\n",
    "```python\n",
    "\n",
    "a = \"this is a string.\"\n",
    "\n",
    "# concatenating\n",
    "print(a + a)\n",
    "print(a + ' And so is this')\n",
    "# indexing\n",
    "print(a[3])\n",
    "print(a[:3])\n",
    "print(a[3:5])\n",
    "print(a[-1])\n",
    "# manipulating\n",
    "print(a.upper())\n",
    "print(a.strip('.'))\n",
    "print(a.split(' '))\n",
    "print(len(a))\n",
    "```"
   ]
  },
  {
   "cell_type": "code",
   "execution_count": null,
   "id": "3af81a29",
   "metadata": {},
   "outputs": [],
   "source": []
  },
  {
   "cell_type": "markdown",
   "id": "538f0c1f",
   "metadata": {},
   "source": [
    "**The f-string**\n",
    "\n",
    "We can insert variables into strings using the `fstring` (*formatted* string). To define an `fstring` we simply place an `f` directly before the quotation marks. We can then use `{}` to place previously defined varibales in our string. \n",
    "\n",
    "For example, to place the variable `name = \"Tom\"` in a string, we would write `f\"Hello, my name is {name}\"`.\n",
    "\n",
    "Try the following:\n",
    "\n",
    "```python\n",
    "a = 20\n",
    "b = 30\n",
    "c = a + b\n",
    "\n",
    "print(f'The value of {a} plus {b} is {c}.')\n",
    "```\n",
    "\n",
    "💡 **Task**: Go back to your previous `print` statements to make them more informative!\n",
    "\n",
    "**Don't forget to include the `f` before the quotation mark!**"
   ]
  },
  {
   "cell_type": "code",
   "execution_count": null,
   "id": "3b5eb91b",
   "metadata": {},
   "outputs": [],
   "source": []
  },
  {
   "cell_type": "markdown",
   "id": "21f649f9",
   "metadata": {},
   "source": [
    "#### 1.2.3 Lists\n",
    "Lists hold sequences of information and are defined using the `[]` symbols, with individual elements separated by a `,`.\n",
    "\n",
    "Like with strings, we can index into a list using `[]`. Try out the following code to see this in action:\n",
    "\n",
    "```python\n",
    "a = [1,2,3]\n",
    "b = a[-1]\n",
    "\n",
    "print(f'the last value of a is {b}')\n",
    "```"
   ]
  },
  {
   "cell_type": "code",
   "execution_count": null,
   "id": "b51a2d60",
   "metadata": {},
   "outputs": [],
   "source": []
  },
  {
   "cell_type": "markdown",
   "id": "5a0ae624",
   "metadata": {},
   "source": [
    "**Measuring Lists**\n",
    "\n",
    "We can also use the `len()` function with lists to find how many elements they have. Explore this in the code block below"
   ]
  },
  {
   "cell_type": "code",
   "execution_count": null,
   "id": "0152a6c5",
   "metadata": {},
   "outputs": [],
   "source": []
  },
  {
   "cell_type": "markdown",
   "id": "9ab10c5e",
   "metadata": {},
   "source": [
    "**Lists and Data Types**\n",
    "\n",
    "Lists don't just have to hold numbers, they can hold any types of data!\n",
    "\n",
    "Create a list which contains a mix of `string`, `int` and `float` elements. "
   ]
  },
  {
   "cell_type": "markdown",
   "id": "4be7f8bc",
   "metadata": {},
   "source": []
  },
  {
   "cell_type": "markdown",
   "id": "b7670e0b",
   "metadata": {},
   "source": [
    "**Listception**\n",
    "\n",
    "Lists can even contain other lists. Consider the following code:\n",
    "\n",
    "```python\n",
    "a = [1,2,3]\n",
    "b = [4,5,6]\n",
    "\n",
    "c = [a,b]\n",
    "\n",
    "print(c)\n",
    "```\n",
    "\n",
    "How might you get the second value of list `b` from the list `c`? What is the length of list `c`?"
   ]
  },
  {
   "cell_type": "code",
   "execution_count": null,
   "id": "34ba90a8",
   "metadata": {},
   "outputs": [],
   "source": []
  },
  {
   "cell_type": "markdown",
   "id": "434f5462",
   "metadata": {},
   "source": [
    "**Modifying lists**\n",
    "\n",
    "We can use indexing to update the value of an element in a list. \n",
    "\n",
    "Try the following code:\n",
    "\n",
    "```python\n",
    "\n",
    "a = [1,2,3]\n",
    "a[0] = 0\n",
    "\n",
    "print(a)\n",
    "```\n",
    "\n",
    "How might you change the last element of a list?"
   ]
  },
  {
   "cell_type": "code",
   "execution_count": null,
   "id": "ae6e7851",
   "metadata": {},
   "outputs": [],
   "source": []
  },
  {
   "cell_type": "markdown",
   "id": "17a5d136",
   "metadata": {},
   "source": [
    "**Appending and Extending lists**\n",
    "\n",
    "We can add new data to a list using the `.append()` function. Since this function is a property of just lists (unlike say, `print()` which can be used on multiple types) the syntax is `variable.append(x)`. Its important to note that this is an *in place* function, which means the variable is updated, like we saw with `+=`. \n",
    "\n",
    "Try the following exmaple:\n",
    "\n",
    "```python\n",
    "a = [1,2,3]\n",
    "b = 4\n",
    "print(a)\n",
    "\n",
    "a.append(b)\n",
    "\n",
    "print(a)\n",
    "```\n",
    "\n",
    "The `extend()` function works in a similar way, but concatenates one list with another. Explore this using similar code to above. "
   ]
  },
  {
   "cell_type": "code",
   "execution_count": null,
   "id": "e56ad151",
   "metadata": {},
   "outputs": [],
   "source": []
  }
 ],
 "metadata": {
  "kernelspec": {
   "display_name": "air-bnb-proximity",
   "language": "python",
   "name": "python3"
  },
  "language_info": {
   "codemirror_mode": {
    "name": "ipython",
    "version": 3
   },
   "file_extension": ".py",
   "mimetype": "text/x-python",
   "name": "python",
   "nbconvert_exporter": "python",
   "pygments_lexer": "ipython3",
   "version": "3.11.0"
  }
 },
 "nbformat": 4,
 "nbformat_minor": 5
}
