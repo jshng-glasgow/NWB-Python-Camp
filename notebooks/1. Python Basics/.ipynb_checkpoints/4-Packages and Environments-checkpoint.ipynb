{
 "cells": [
  {
   "cell_type": "markdown",
   "id": "0a4c0ca6",
   "metadata": {},
   "source": [
    "# 4. Packages and Environments\n",
    "\n",
    "A software package (or library) is a pre-written collection of code which you can import into your project. This is extremely useful, as it means we don't have to start from scratch every time we write some code!\n",
    "\n",
    "## 4.1 Built-In Python Packages\n",
    "\n",
    "The example below imports a function called `math` which contains a host of mathematical functions to play with:\n",
    "\n",
    "```python\n",
    "\n",
    "import math\n",
    "```\n",
    "In Code Block 1, import the `math` library and use the `help()` function to see what functions `math` makes available. Use the syntax `math.function(argument)` (e.g. `math.cos(0)`) to play with some of the functions. "
   ]
  },
  {
   "cell_type": "code",
   "execution_count": null,
   "id": "dffa4a92",
   "metadata": {},
   "outputs": [],
   "source": []
  },
  {
   "cell_type": "markdown",
   "id": "f50fd630",
   "metadata": {},
   "source": [
    "Now we have the `math` package imported, we can use functions like `math.cos()` or `math.atan()` anywhere in our code. If these were the only functions we were interested in, we could also specify that in our import using the line:\n",
    "\n",
    "```python\n",
    "from math import cos, atan\n",
    "```\n",
    "These can now be used in our code without needing the `math.` prefix:\n",
    "\n",
    "```python\n",
    "x = 90\n",
    "cos_x = cos(x)\n",
    "print(cos_x)\n",
    "```"
   ]
  },
  {
   "cell_type": "code",
   "execution_count": null,
   "id": "09774a6d",
   "metadata": {},
   "outputs": [],
   "source": []
  },
  {
   "cell_type": "markdown",
   "id": "d7fced44",
   "metadata": {},
   "source": [
    "## 4.2 Third Party Packages and Coding Environments\n",
    "\n",
    "Third party packages are libraries which are not included in the base Python installation. To use them we must first install them on our computer using a package manager like Pip or Conda. \n",
    "\n",
    "### 4.2.1 Creating a Conda Environment\n",
    "It is good practice to keep all the packages you need for a project in the same place, called an *environment*. Keeping our packages in a clean and minimal environment makes it easier for others to re-use our code, as they know exactly what packages to install to make it work. This is particularly important in science, where we want our code to be as reproducible as possible.\n",
    "\n",
    "To do this, search for *Anconda Prompt* on your computer and open it. You should get something like this:\n",
    "\n",
    "![image](conda_prompt_1.PNG)\n",
    "\n",
    "The first thing to note is the `(base)` before your current working directory, in this case (`C:\\Users\\jws10y>`). This is indicating that we are in our `base` environment. We could start installing software into this, however if we want to keep a track of which packages we use on different projects we need to create a project specific environment.\n",
    "\n",
    "Let's create that new environment. We'll name this environment `NWB-hackathon`. We're also going to specify the Python version we will be using for this, in this case `Python==3.11`. Do this with the following line:\n",
    "\n",
    "![image](conda_prompt_1.PNG)\n",
    "\n",
    "You will see a load of text generated, then be prompted to confirm the action with the line `Proceed ([y]/n)?`. input `y` then hit `Enter`. This environment is now a clean install of Python which we can build a coding environment on. First, though, we need to enter that environment by *activating* it. You need to do this any time you want to use the environment for coding. Enter the following line into your Anaconda Prompt: \n",
    "\n",
    "![image](conda_prompt_3.PNG)\n",
    "\n",
    "### 4.2.2 Installing Packages\n",
    "\n",
    "If this has worked, you will see the `(base)` has now changed to `(NWB-hackathon)`, indicating our environment has changed. We now need to install some packages into this environment. We're going to install a few commonly used data science libraries, but there are thousands of others out there. First, let's install *Jupyter* again. Since we have made a clean environment, the packages installed with Anaconda might not be on our `NWB-hackathon` environment. We'll be using `pip` to install these packages. Pip will pull all the code for Jupyter from [PyPi](https://pypi.org/) - a huge repository of open-source Python code. Install Jupyter with the following command:\n",
    "\n",
    "![image](conda_prompt_4.PNG)\n",
    "\n",
    "Use the same approach to install a few more packages:\n",
    "\n",
    "* `matplotlib` : for creating plots and graphs,\n",
    "\n",
    "* `numpy` : for handling numerical data and matrices,\n",
    "\n",
    "* `pandas` : for data wrangling and analysis,\n",
    "\n",
    "* `scikit-learn` : for data analysis and machine learning.\n",
    "\n",
    "Use `pip install <package>` in your Anaconda Prompt.\n",
    "\n",
    "### 4.2.3 Opening a Jupyter Notebook in your Environment\n",
    "\n",
    "Once those are installed, save all your notebooks and close you Jupyter window in your browser. We'll open it again running inside our `NWB-hackathon` environment.\n",
    "\n",
    "Go back to your Anaconda Prompt terminal, and check that the `(NWB-hackathon)` environment is running (it should be the first thing on your current line). To open Jupyter again, all we need to do is type in `jupyter notebook` and hit `Enter`. This should automatically open Jupyter in your browser.\n",
    "\n",
    "### 4.3 Using Third Party Packages\n",
    "Let's take a look at a few of the package we installed. It is common to import many of these under shortened pseudonyms - especially for packages which see very frequent use such as `numpy`, `pandas` and `matplotlib`. To import these packages, use the code below\n",
    "\n",
    "```python\n",
    "\n",
    "import pandas as pd # the `as pd` line means we now just need to type \"pd\" when we want to use pandas\n",
    "import numpy as np\n",
    "import matplotlib.pyplot as plt # we're just importing the `pyplot` module from matplotlib\n",
    "\n",
    "import sklearn\n",
    "```\n",
    "Import these packages in the code block below, and use `help()` to read a little about what they do.  "
   ]
  },
  {
   "cell_type": "code",
   "execution_count": null,
   "id": "bff32004",
   "metadata": {},
   "outputs": [],
   "source": []
  },
  {
   "cell_type": "markdown",
   "id": "68910e69",
   "metadata": {},
   "source": [
    "### 4.3.1 Reading Tabular Data with `pandas`\n",
    "The Pandas library is used for reading and analysing tabular data. We're going to use it to read in `amino_acids.csv` as a *DataFrame* (or `df`) and view some of the data. We'll use the `DataFrame.head()` function to view the first 5 elements in the dataframe. \n",
    "\n",
    "```python\n",
    "amino_acids_df = pd.read_csv('aminoacids.csv')\n",
    "amino_acids_df.head()\n",
    "```\n",
    "💡**Task:** use the `len()` function on your dataframe to check how many columns it has."
   ]
  },
  {
   "cell_type": "code",
   "execution_count": null,
   "id": "281a4e51",
   "metadata": {},
   "outputs": [],
   "source": []
  },
  {
   "cell_type": "markdown",
   "id": "5aaae649",
   "metadata": {},
   "source": [
    "We can get a full list of the columns in oure dataframe using the `DataFrame.columns()` function. Try that on our `amino_acids_df` dataframe in the Code Block below."
   ]
  },
  {
   "cell_type": "code",
   "execution_count": null,
   "id": "761c4c41",
   "metadata": {},
   "outputs": [],
   "source": []
  },
  {
   "cell_type": "markdown",
   "id": "a09be1a5",
   "metadata": {},
   "source": [
    "Our dataframe has 22 columns and 22 rows of data. We can extract a single column (or *Series*) using the following syntax:\n",
    "\n",
    "```python\n",
    "amino_acids_masses = amino_acids_df['Molecular Weight']\n",
    "print(amino_acids_masses)\n",
    "```\n",
    "💡 **Task:** Extract a few more columns from our dataframe."
   ]
  },
  {
   "cell_type": "code",
   "execution_count": null,
   "id": "e5891427",
   "metadata": {},
   "outputs": [],
   "source": []
  },
  {
   "cell_type": "markdown",
   "id": "2c903608",
   "metadata": {},
   "source": [
    "We can use the `numpy` package to get basic statistics for our series. Try the following examples to see what they do:\n",
    "\n",
    "```python\n",
    "\n",
    "np.amax(amino_acid_masses)\n",
    "np.amin(amino_acid_masses)\n",
    "np.mean(amino_acid_masses)\n",
    "np.quantile(amino_acid_masses, [0.05, 0.25, 0.5, 0.75, 0.95])\n",
    "np.std(amino_acid_masses)\n",
    "```"
   ]
  },
  {
   "cell_type": "code",
   "execution_count": null,
   "id": "25253e90",
   "metadata": {},
   "outputs": [],
   "source": []
  },
  {
   "cell_type": "markdown",
   "id": "a9d94ce3",
   "metadata": {},
   "source": [
    "Pandas has hundereds more features, some of which we'll see in the next session of the workshop. For now, lets take a look at plotting data with `Matplotlib` and doing some basic modelling with `scikit-learn`. \n",
    "\n",
    "### 4.3.2 Plotting data with `matplotlib`\n",
    "Matplotlib offers a range of data visualisation tools. Today, we'll look at two simple plotting types, histograms and scatter plots. \n",
    "\n",
    "As a quick tip - the standard plotting style for Matplotlib is a little sparse. We can change the plotting style easily by running the following code:\n",
    "\n",
    "```python\n",
    "plt.style.use(\"ggplot\")\n",
    "```\n",
    "This will chnage the style to be more similar to R's *ggplot*. You can see a full range of styles [here](https://matplotlib.org/stable/gallery/style_sheets/style_sheets_reference.html).\n",
    "\n",
    "Choose a style from the style list and run the code above (with `\"ggplot\"` replaced with your chose style)."
   ]
  },
  {
   "cell_type": "code",
   "execution_count": null,
   "id": "80140bba",
   "metadata": {},
   "outputs": [],
   "source": []
  },
  {
   "cell_type": "markdown",
   "id": "89d8f381",
   "metadata": {},
   "source": [
    "We'll start by producing a historgram of the different massess of amino acids using th following code:\n",
    "\n",
    "```python\n",
    "plt.hist(amino_acids_df['Molecular Weight'])\n",
    "\n",
    "plt.title('Amino Acid Molar Masses') # adds a title\n",
    "plt.x_label('Molecular mass (g/mol)') # adds label for x axis\n",
    "plt.y_label('Count') # adds label for y axis\n",
    "plt.show() # shows the plot\n",
    "```\n",
    "\n",
    "Use the Code Block below to produce histograms for a few other features in our dataset."
   ]
  },
  {
   "cell_type": "code",
   "execution_count": null,
   "id": "2dfdad7d",
   "metadata": {},
   "outputs": [],
   "source": []
  },
  {
   "cell_type": "markdown",
   "id": "713c0d00",
   "metadata": {},
   "source": [
    "We can also compare two variables using the `scatter` plotting tool. The code below produces a scatter plot comparing `Molecular Weight` with `VSC` (volatile sulfur compounds). \n",
    "\n",
    "```python\n",
    "plt.scatter(amino_acids_df['Molecular Weight'], amino_acids_df['VSC'])\n",
    "```\n",
    "💡**Task:** Amend the code above so that it adds a title and axis labels. Take a look at [matplotlib's documentation](https://matplotlib.org/stable/api/_as_gen/matplotlib.pyplot.scatter.html) to see how else you can customise your plot. "
   ]
  },
  {
   "cell_type": "code",
   "execution_count": null,
   "id": "3997f67a",
   "metadata": {},
   "outputs": [],
   "source": []
  },
  {
   "cell_type": "markdown",
   "id": "aa65942a",
   "metadata": {},
   "source": [
    "### 4.3.3 Simple Modelling with `scikit-learn`, `numpy` and `pandas`\n",
    "The `scikit-learn` library has hundereds of tools for data processing, analysis and modelling. We're going to use a few here to great a simple linear regression which predicts `VSC` given an amino acid's molecular mass. \n",
    "\n",
    "Out first task is to create an X variable for our regression. We'll put these into the form of a Numpy array by using the numpy function `np.array()`. Numpy arrays are sort of like lists, except the only handle numerical data (`int` or `float`) and are much more memory efficient - super important for complex machine learning tasks.\n",
    "\n",
    "Create your input variable using the code below:\n",
    "\n",
    "```python\n",
    "# first, drop anything which is missing values for either VSC or Molecular weight\n",
    "input_df = amino_acids_df.dropna(subset=['Molecular Weight', 'VSC'])\n",
    "X = np.array(input_df['Molecular Weight'])\n",
    "```\n",
    "💡**Task:** Copy the code above and add a new line which extracts the `y` variable from the `VSC` column. Remember to make it a numpy array. "
   ]
  },
  {
   "cell_type": "code",
   "execution_count": null,
   "id": "e07ddf43",
   "metadata": {},
   "outputs": [],
   "source": []
  },
  {
   "cell_type": "markdown",
   "id": "be543bab",
   "metadata": {},
   "source": [
    "We now want to split our data into a test set and a training set. The code below randomly assigns 10% of our data to a test set. We'll set a random state so that our random split is reproducible for others:\n",
    "\n",
    "```python\n",
    "from sklearn.model_selection import train_test_split\n",
    "\n",
    "X_trn, X_tst, y_trn, y_tst = train_test_split(X, y, test_size=0.1, random_state=42)\n",
    "```\n",
    "Copy this code in to the Code Block below to generate a train and test set."
   ]
  },
  {
   "cell_type": "code",
   "execution_count": null,
   "id": "8b4ca5f3",
   "metadata": {},
   "outputs": [],
   "source": []
  },
  {
   "cell_type": "markdown",
   "id": "21a5244d",
   "metadata": {},
   "source": [
    "We can now train a linear regression model on this data! First, we need to import the `LinearRegression` model from sklearn and initialise a new model.\n",
    "\n",
    "```python\n",
    "from sklearn.linear_model import LinearRegression\n",
    "\n",
    "regressor = LinearRegession()\n",
    "model = regressor.fit(X_trn, y_trn)\n",
    "```\n",
    "Copy this into the Code Block Below. You will get an error. Read the error carefully and adjust your data accordingly.\n"
   ]
  },
  {
   "cell_type": "code",
   "execution_count": null,
   "id": "65e2c7f5",
   "metadata": {},
   "outputs": [],
   "source": []
  },
  {
   "cell_type": "markdown",
   "id": "bf66c764",
   "metadata": {},
   "source": [
    "We can now test our model. Use the `model.score(X,y)` method to get a regression score for the model on our test data!"
   ]
  },
  {
   "cell_type": "code",
   "execution_count": null,
   "id": "ac665d93",
   "metadata": {},
   "outputs": [],
   "source": []
  },
  {
   "cell_type": "markdown",
   "id": "6020a622",
   "metadata": {},
   "source": [
    "💡**Task:** Have a go at making a linear regression model with multiple features from our dataset - can you improve the performance on predicting VSC for different Amino Acids?"
   ]
  },
  {
   "cell_type": "code",
   "execution_count": null,
   "id": "e13dd31c",
   "metadata": {},
   "outputs": [],
   "source": []
  },
  {
   "cell_type": "code",
   "execution_count": null,
   "id": "50f8ab30",
   "metadata": {},
   "outputs": [],
   "source": []
  }
 ],
 "metadata": {
  "kernelspec": {
   "display_name": "Python 3 (ipykernel)",
   "language": "python",
   "name": "python3"
  },
  "language_info": {
   "codemirror_mode": {
    "name": "ipython",
    "version": 3
   },
   "file_extension": ".py",
   "mimetype": "text/x-python",
   "name": "python",
   "nbconvert_exporter": "python",
   "pygments_lexer": "ipython3",
   "version": "3.11.4"
  }
 },
 "nbformat": 4,
 "nbformat_minor": 5
}
